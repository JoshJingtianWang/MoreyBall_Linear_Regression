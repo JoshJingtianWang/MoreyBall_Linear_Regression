{
 "cells": [
  {
   "cell_type": "markdown",
   "id": "73c8ddd8-adbf-4eba-b2a4-bd452833d8c9",
   "metadata": {},
   "source": [
    "# webscraping"
   ]
  },
  {
   "cell_type": "markdown",
   "id": "f583269f-9607-4053-8457-b10cafa53a2a",
   "metadata": {},
   "source": [
    "## play by play data from bball ref"
   ]
  },
  {
   "cell_type": "code",
   "execution_count": 58,
   "id": "79ec04b1-65d9-4aae-ba2d-b202da5bee01",
   "metadata": {},
   "outputs": [],
   "source": [
    "import pandas as pd\n",
    "import requests, bs4, re\n",
    "from bs4 import BeautifulSoup as bs\n",
    "from time import sleep"
   ]
  },
  {
   "cell_type": "markdown",
   "id": "335fd903-3220-4936-b139-13b9c978e8c1",
   "metadata": {},
   "source": [
    "### Get links of play-by-play pages of all games of a season"
   ]
  },
  {
   "cell_type": "code",
   "execution_count": 119,
   "id": "47211a15-8d2d-40be-932b-76fb7046c421",
   "metadata": {
    "tags": []
   },
   "outputs": [],
   "source": [
    "#defining function to flatten scraped data\n",
    "\n",
    "\n",
    "#each final row: awaylayupattmp, awaylongtwoattmpt, awaythreeattmp, awaydistance, awaymake, awayassist, awayft, awaydr, awayor\n",
    "#                 homelayupattmp, homelongtwoattmp, homethreeattmp, homedistance, homemake, homeassist, homeft, homedr, homeor\n",
    "def flatten(trs):\n",
    "    rows = []\n",
    "    index=[1,5]\n",
    "    myregex = re.compile('(\\d+) ft')\n",
    "\n",
    "    for tr in trs[3:]:\n",
    "\n",
    "        tds=tr.find_all('td')\n",
    "        row = [td.text for td in tds]\n",
    "        if len(row) != 6:\n",
    "            continue\n",
    "        slicedrow=[row[i] for i in index]\n",
    "\n",
    "        finalrow={'awaylayupattmp':0, 'awaylongtwoattmp':0, 'awaythreeattmp':0, 'awaydistance':0, 'awaymake':0, 'awayassist':0, 'awayft':0, 'awaydr':0, 'awayor':0, \n",
    "              'homelayupattmp':0, 'homelongtwoattmp':0, 'homethreeattmp':0, 'homedistance':0, 'homemake':0, 'homeassist':0, 'homeft':0, 'homedr':0, 'homeor':0}\n",
    "\n",
    "\n",
    "        #away team fg\n",
    "        if '-pt ' in slicedrow[0]:\n",
    "            if ' ft' in slicedrow[0]:\n",
    "                finalrow['awaydistance']=myregex.findall(slicedrow[0])[0]\n",
    "            if ' rim' in slicedrow[0]:\n",
    "                finalrow['awaydistance']=0\n",
    "            if \" makes \" in slicedrow[0]:\n",
    "                finalrow['awaymake']=1\n",
    "                if 'assist ' in slicedrow[0]:\n",
    "                    finalrow['awayassist']=1\n",
    "            if (' 2-pt layup ' in slicedrow[0]) or (' 2-pt dunk ' in slicedrow[0]):\n",
    "                finalrow['awaylayupattmp']=1\n",
    "            if (' 2-pt ' in slicedrow[0]) and (' shot ' in slicedrow[0]):\n",
    "                finalrow['awaylongtwoattmp']=1\n",
    "            if (' 3-pt ' in slicedrow[0]):\n",
    "                finalrow['awaythreeattmp']=1\n",
    "\n",
    "        #away team ft\n",
    "        elif ' free throw ' in slicedrow[0]:\n",
    "            finalrow['awayft']=1\n",
    "            if \" makes \" in slicedrow[0]:\n",
    "                finalrow['awaymake']=1\n",
    "\n",
    "        #away team rebound (not counting team rebound)\n",
    "        elif ('Defensive rebound ' in slicedrow[0]) and (' by Team' not in slicedrow[0]):\n",
    "            finalrow['awaydr']=1\n",
    "        elif (\"Offensive rebound \" in slicedrow[0]) and (' by Team' not in slicedrow[0]):\n",
    "            finalrow['awayor']=1    \n",
    "\n",
    "        #home team fg\n",
    "        elif '-pt ' in slicedrow[1]:\n",
    "            if ' ft' in slicedrow[1]:\n",
    "                finalrow['homedistance']=myregex.findall(slicedrow[1])[0]\n",
    "            if ' rim' in slicedrow[1]:\n",
    "                finalrow['homedistance']=0\n",
    "            if \" makes \" in slicedrow[1]:\n",
    "                finalrow['homemake']=1\n",
    "                if 'assist ' in slicedrow[1]:\n",
    "                    finalrow['homeassist']=1\n",
    "            if (' 2-pt layup ' in slicedrow[1]) or (' 2-pt dunk ' in slicedrow[1]):\n",
    "                finalrow['homelayupattmp']=1\n",
    "            if (' 2-pt ' in slicedrow[1]) and (' shot ' in slicedrow[1]):\n",
    "                finalrow['homelongtwoattmp']=1\n",
    "            if (' 3-pt ' in slicedrow[1]):\n",
    "                finalrow['homethreeattmp']=1                    \n",
    "\n",
    "        #home team ft\n",
    "        elif ' free throw ' in slicedrow[1]:\n",
    "            finalrow['homeft']=1\n",
    "            if \" makes \" in slicedrow[1]:\n",
    "                finalrow['homemake']=1            \n",
    "\n",
    "        #home team rebound (not counting team rebound)\n",
    "        elif ('Defensive rebound ' in slicedrow[1]) and (' by Team' not in slicedrow[1]):\n",
    "            finalrow['homedr']=1\n",
    "        elif (\"Offensive rebound \" in slicedrow[1]) and (' by Team' not in slicedrow[1]):\n",
    "            finalrow['homeor']=1                \n",
    "\n",
    "\n",
    "\n",
    "        else:\n",
    "            continue\n",
    "        #print(True)\n",
    "        rows.append(finalrow)\n",
    "    return rows"
   ]
  },
  {
   "cell_type": "code",
   "execution_count": 61,
   "id": "9a8153f8-7202-41f6-af60-7774ef42c64a",
   "metadata": {},
   "outputs": [
    {
     "name": "stdout",
     "output_type": "stream",
     "text": [
      "1998\n",
      "https://www.basketball-reference.com//leagues/NBA_1998_games-october.html\n",
      "https://www.basketball-reference.com//leagues/NBA_1998_games-november.html\n",
      "https://www.basketball-reference.com//leagues/NBA_1998_games-december.html\n",
      "https://www.basketball-reference.com//leagues/NBA_1998_games-january.html\n",
      "https://www.basketball-reference.com//leagues/NBA_1998_games-february.html\n",
      "https://www.basketball-reference.com//leagues/NBA_1998_games-march.html\n",
      "https://www.basketball-reference.com//leagues/NBA_1998_games-april.html\n",
      "https://www.basketball-reference.com//leagues/NBA_1998_games-may.html\n",
      "https://www.basketball-reference.com//leagues/NBA_1998_games-june.html\n",
      "1999\n",
      "https://www.basketball-reference.com//leagues/NBA_1999_games-february.html\n",
      "https://www.basketball-reference.com//leagues/NBA_1999_games-march.html\n",
      "https://www.basketball-reference.com//leagues/NBA_1999_games-april.html\n",
      "https://www.basketball-reference.com//leagues/NBA_1999_games-may.html\n",
      "https://www.basketball-reference.com//leagues/NBA_1999_games-june.html\n",
      "2000\n",
      "https://www.basketball-reference.com//leagues/NBA_2000_games-november.html\n",
      "https://www.basketball-reference.com//leagues/NBA_2000_games-december.html\n",
      "https://www.basketball-reference.com//leagues/NBA_2000_games-january.html\n",
      "https://www.basketball-reference.com//leagues/NBA_2000_games-february.html\n",
      "https://www.basketball-reference.com//leagues/NBA_2000_games-march.html\n",
      "https://www.basketball-reference.com//leagues/NBA_2000_games-april.html\n",
      "https://www.basketball-reference.com//leagues/NBA_2000_games-may.html\n",
      "https://www.basketball-reference.com//leagues/NBA_2000_games-june.html\n",
      "2001\n",
      "https://www.basketball-reference.com//leagues/NBA_2001_games-october.html\n",
      "https://www.basketball-reference.com//leagues/NBA_2001_games-november.html\n",
      "https://www.basketball-reference.com//leagues/NBA_2001_games-december.html\n",
      "https://www.basketball-reference.com//leagues/NBA_2001_games-january.html\n",
      "https://www.basketball-reference.com//leagues/NBA_2001_games-february.html\n",
      "https://www.basketball-reference.com//leagues/NBA_2001_games-march.html\n",
      "https://www.basketball-reference.com//leagues/NBA_2001_games-april.html\n",
      "https://www.basketball-reference.com//leagues/NBA_2001_games-may.html\n",
      "https://www.basketball-reference.com//leagues/NBA_2001_games-june.html\n",
      "2002\n",
      "https://www.basketball-reference.com//leagues/NBA_2002_games-october.html\n",
      "https://www.basketball-reference.com//leagues/NBA_2002_games-november.html\n",
      "https://www.basketball-reference.com//leagues/NBA_2002_games-december.html\n",
      "https://www.basketball-reference.com//leagues/NBA_2002_games-january.html\n",
      "https://www.basketball-reference.com//leagues/NBA_2002_games-february.html\n",
      "https://www.basketball-reference.com//leagues/NBA_2002_games-march.html\n",
      "https://www.basketball-reference.com//leagues/NBA_2002_games-april.html\n",
      "https://www.basketball-reference.com//leagues/NBA_2002_games-may.html\n",
      "https://www.basketball-reference.com//leagues/NBA_2002_games-june.html\n",
      "2003\n",
      "https://www.basketball-reference.com//leagues/NBA_2003_games-october.html\n",
      "https://www.basketball-reference.com//leagues/NBA_2003_games-november.html\n",
      "https://www.basketball-reference.com//leagues/NBA_2003_games-december.html\n",
      "https://www.basketball-reference.com//leagues/NBA_2003_games-january.html\n",
      "https://www.basketball-reference.com//leagues/NBA_2003_games-february.html\n",
      "https://www.basketball-reference.com//leagues/NBA_2003_games-march.html\n",
      "https://www.basketball-reference.com//leagues/NBA_2003_games-april.html\n",
      "https://www.basketball-reference.com//leagues/NBA_2003_games-may.html\n",
      "https://www.basketball-reference.com//leagues/NBA_2003_games-june.html\n",
      "2004\n",
      "https://www.basketball-reference.com//leagues/NBA_2004_games-october.html\n",
      "https://www.basketball-reference.com//leagues/NBA_2004_games-november.html\n",
      "https://www.basketball-reference.com//leagues/NBA_2004_games-december.html\n",
      "https://www.basketball-reference.com//leagues/NBA_2004_games-january.html\n",
      "https://www.basketball-reference.com//leagues/NBA_2004_games-february.html\n",
      "https://www.basketball-reference.com//leagues/NBA_2004_games-march.html\n",
      "https://www.basketball-reference.com//leagues/NBA_2004_games-april.html\n",
      "https://www.basketball-reference.com//leagues/NBA_2004_games-may.html\n",
      "https://www.basketball-reference.com//leagues/NBA_2004_games-june.html\n",
      "2005\n",
      "https://www.basketball-reference.com//leagues/NBA_2005_games-november.html\n",
      "https://www.basketball-reference.com//leagues/NBA_2005_games-december.html\n",
      "https://www.basketball-reference.com//leagues/NBA_2005_games-january.html\n",
      "https://www.basketball-reference.com//leagues/NBA_2005_games-february.html\n",
      "https://www.basketball-reference.com//leagues/NBA_2005_games-march.html\n",
      "https://www.basketball-reference.com//leagues/NBA_2005_games-april.html\n",
      "https://www.basketball-reference.com//leagues/NBA_2005_games-may.html\n",
      "https://www.basketball-reference.com//leagues/NBA_2005_games-june.html\n",
      "2006\n",
      "https://www.basketball-reference.com//leagues/NBA_2006_games-november.html\n",
      "https://www.basketball-reference.com//leagues/NBA_2006_games-december.html\n",
      "https://www.basketball-reference.com//leagues/NBA_2006_games-january.html\n",
      "https://www.basketball-reference.com//leagues/NBA_2006_games-february.html\n",
      "https://www.basketball-reference.com//leagues/NBA_2006_games-march.html\n",
      "https://www.basketball-reference.com//leagues/NBA_2006_games-april.html\n",
      "https://www.basketball-reference.com//leagues/NBA_2006_games-may.html\n",
      "https://www.basketball-reference.com//leagues/NBA_2006_games-june.html\n",
      "2007\n",
      "https://www.basketball-reference.com//leagues/NBA_2007_games-october.html\n",
      "https://www.basketball-reference.com//leagues/NBA_2007_games-november.html\n",
      "https://www.basketball-reference.com//leagues/NBA_2007_games-december.html\n",
      "https://www.basketball-reference.com//leagues/NBA_2007_games-january.html\n",
      "https://www.basketball-reference.com//leagues/NBA_2007_games-february.html\n",
      "https://www.basketball-reference.com//leagues/NBA_2007_games-march.html\n",
      "https://www.basketball-reference.com//leagues/NBA_2007_games-april.html\n",
      "https://www.basketball-reference.com//leagues/NBA_2007_games-may.html\n",
      "https://www.basketball-reference.com//leagues/NBA_2007_games-june.html\n",
      "2008\n",
      "https://www.basketball-reference.com//leagues/NBA_2008_games-october.html\n",
      "https://www.basketball-reference.com//leagues/NBA_2008_games-november.html\n",
      "https://www.basketball-reference.com//leagues/NBA_2008_games-december.html\n",
      "https://www.basketball-reference.com//leagues/NBA_2008_games-january.html\n",
      "https://www.basketball-reference.com//leagues/NBA_2008_games-february.html\n",
      "https://www.basketball-reference.com//leagues/NBA_2008_games-march.html\n",
      "https://www.basketball-reference.com//leagues/NBA_2008_games-april.html\n",
      "https://www.basketball-reference.com//leagues/NBA_2008_games-may.html\n",
      "https://www.basketball-reference.com//leagues/NBA_2008_games-june.html\n",
      "2009\n",
      "https://www.basketball-reference.com//leagues/NBA_2009_games-october.html\n",
      "https://www.basketball-reference.com//leagues/NBA_2009_games-november.html\n",
      "https://www.basketball-reference.com//leagues/NBA_2009_games-december.html\n",
      "https://www.basketball-reference.com//leagues/NBA_2009_games-january.html\n",
      "https://www.basketball-reference.com//leagues/NBA_2009_games-february.html\n",
      "https://www.basketball-reference.com//leagues/NBA_2009_games-march.html\n",
      "https://www.basketball-reference.com//leagues/NBA_2009_games-april.html\n",
      "https://www.basketball-reference.com//leagues/NBA_2009_games-may.html\n",
      "https://www.basketball-reference.com//leagues/NBA_2009_games-june.html\n",
      "2010\n",
      "https://www.basketball-reference.com//leagues/NBA_2010_games-october.html\n",
      "https://www.basketball-reference.com//leagues/NBA_2010_games-november.html\n",
      "https://www.basketball-reference.com//leagues/NBA_2010_games-december.html\n",
      "https://www.basketball-reference.com//leagues/NBA_2010_games-january.html\n",
      "https://www.basketball-reference.com//leagues/NBA_2010_games-february.html\n",
      "https://www.basketball-reference.com//leagues/NBA_2010_games-march.html\n",
      "https://www.basketball-reference.com//leagues/NBA_2010_games-april.html\n",
      "https://www.basketball-reference.com//leagues/NBA_2010_games-may.html\n",
      "https://www.basketball-reference.com//leagues/NBA_2010_games-june.html\n",
      "2011\n",
      "https://www.basketball-reference.com//leagues/NBA_2011_games-october.html\n",
      "https://www.basketball-reference.com//leagues/NBA_2011_games-november.html\n",
      "https://www.basketball-reference.com//leagues/NBA_2011_games-december.html\n",
      "https://www.basketball-reference.com//leagues/NBA_2011_games-january.html\n",
      "https://www.basketball-reference.com//leagues/NBA_2011_games-february.html\n",
      "https://www.basketball-reference.com//leagues/NBA_2011_games-march.html\n",
      "https://www.basketball-reference.com//leagues/NBA_2011_games-april.html\n",
      "https://www.basketball-reference.com//leagues/NBA_2011_games-may.html\n",
      "https://www.basketball-reference.com//leagues/NBA_2011_games-june.html\n",
      "2012\n",
      "https://www.basketball-reference.com//leagues/NBA_2012_games-december.html\n",
      "https://www.basketball-reference.com//leagues/NBA_2012_games-january.html\n",
      "https://www.basketball-reference.com//leagues/NBA_2012_games-february.html\n",
      "https://www.basketball-reference.com//leagues/NBA_2012_games-march.html\n",
      "https://www.basketball-reference.com//leagues/NBA_2012_games-april.html\n",
      "https://www.basketball-reference.com//leagues/NBA_2012_games-may.html\n",
      "https://www.basketball-reference.com//leagues/NBA_2012_games-june.html\n",
      "2013\n",
      "https://www.basketball-reference.com//leagues/NBA_2013_games-october.html\n",
      "https://www.basketball-reference.com//leagues/NBA_2013_games-november.html\n",
      "https://www.basketball-reference.com//leagues/NBA_2013_games-december.html\n",
      "https://www.basketball-reference.com//leagues/NBA_2013_games-january.html\n",
      "https://www.basketball-reference.com//leagues/NBA_2013_games-february.html\n",
      "https://www.basketball-reference.com//leagues/NBA_2013_games-march.html\n",
      "https://www.basketball-reference.com//leagues/NBA_2013_games-april.html\n",
      "https://www.basketball-reference.com//leagues/NBA_2013_games-may.html\n",
      "https://www.basketball-reference.com//leagues/NBA_2013_games-june.html\n",
      "2014\n",
      "https://www.basketball-reference.com//leagues/NBA_2014_games-october.html\n",
      "https://www.basketball-reference.com//leagues/NBA_2014_games-november.html\n",
      "https://www.basketball-reference.com//leagues/NBA_2014_games-december.html\n",
      "https://www.basketball-reference.com//leagues/NBA_2014_games-january.html\n",
      "https://www.basketball-reference.com//leagues/NBA_2014_games-february.html\n",
      "https://www.basketball-reference.com//leagues/NBA_2014_games-march.html\n",
      "https://www.basketball-reference.com//leagues/NBA_2014_games-april.html\n",
      "https://www.basketball-reference.com//leagues/NBA_2014_games-may.html\n",
      "https://www.basketball-reference.com//leagues/NBA_2014_games-june.html\n",
      "2015\n",
      "https://www.basketball-reference.com//leagues/NBA_2015_games-october.html\n",
      "https://www.basketball-reference.com//leagues/NBA_2015_games-november.html\n",
      "https://www.basketball-reference.com//leagues/NBA_2015_games-december.html\n",
      "https://www.basketball-reference.com//leagues/NBA_2015_games-january.html\n",
      "https://www.basketball-reference.com//leagues/NBA_2015_games-february.html\n",
      "https://www.basketball-reference.com//leagues/NBA_2015_games-march.html\n",
      "https://www.basketball-reference.com//leagues/NBA_2015_games-april.html\n",
      "https://www.basketball-reference.com//leagues/NBA_2015_games-may.html\n",
      "https://www.basketball-reference.com//leagues/NBA_2015_games-june.html\n",
      "2016\n",
      "https://www.basketball-reference.com//leagues/NBA_2016_games-october.html\n",
      "https://www.basketball-reference.com//leagues/NBA_2016_games-november.html\n",
      "https://www.basketball-reference.com//leagues/NBA_2016_games-december.html\n",
      "https://www.basketball-reference.com//leagues/NBA_2016_games-january.html\n",
      "https://www.basketball-reference.com//leagues/NBA_2016_games-february.html\n",
      "https://www.basketball-reference.com//leagues/NBA_2016_games-march.html\n",
      "https://www.basketball-reference.com//leagues/NBA_2016_games-april.html\n",
      "https://www.basketball-reference.com//leagues/NBA_2016_games-may.html\n",
      "https://www.basketball-reference.com//leagues/NBA_2016_games-june.html\n",
      "2017\n",
      "https://www.basketball-reference.com//leagues/NBA_2017_games-october.html\n",
      "https://www.basketball-reference.com//leagues/NBA_2017_games-november.html\n",
      "https://www.basketball-reference.com//leagues/NBA_2017_games-december.html\n",
      "https://www.basketball-reference.com//leagues/NBA_2017_games-january.html\n",
      "https://www.basketball-reference.com//leagues/NBA_2017_games-february.html\n",
      "https://www.basketball-reference.com//leagues/NBA_2017_games-march.html\n",
      "https://www.basketball-reference.com//leagues/NBA_2017_games-april.html\n",
      "https://www.basketball-reference.com//leagues/NBA_2017_games-may.html\n",
      "https://www.basketball-reference.com//leagues/NBA_2017_games-june.html\n",
      "2018\n",
      "https://www.basketball-reference.com//leagues/NBA_2018_games-october.html\n",
      "https://www.basketball-reference.com//leagues/NBA_2018_games-november.html\n",
      "https://www.basketball-reference.com//leagues/NBA_2018_games-december.html\n",
      "https://www.basketball-reference.com//leagues/NBA_2018_games-january.html\n",
      "https://www.basketball-reference.com//leagues/NBA_2018_games-february.html\n",
      "https://www.basketball-reference.com//leagues/NBA_2018_games-march.html\n",
      "https://www.basketball-reference.com//leagues/NBA_2018_games-april.html\n",
      "https://www.basketball-reference.com//leagues/NBA_2018_games-may.html\n",
      "https://www.basketball-reference.com//leagues/NBA_2018_games-june.html\n",
      "2019\n",
      "https://www.basketball-reference.com//leagues/NBA_2019_games-october.html\n",
      "https://www.basketball-reference.com//leagues/NBA_2019_games-november.html\n",
      "https://www.basketball-reference.com//leagues/NBA_2019_games-december.html\n",
      "https://www.basketball-reference.com//leagues/NBA_2019_games-january.html\n",
      "https://www.basketball-reference.com//leagues/NBA_2019_games-february.html\n",
      "https://www.basketball-reference.com//leagues/NBA_2019_games-march.html\n",
      "https://www.basketball-reference.com//leagues/NBA_2019_games-april.html\n",
      "https://www.basketball-reference.com//leagues/NBA_2019_games-may.html\n",
      "https://www.basketball-reference.com//leagues/NBA_2019_games-june.html\n",
      "2020\n",
      "https://www.basketball-reference.com//leagues/NBA_2020_games-october-2019.html\n",
      "https://www.basketball-reference.com//leagues/NBA_2020_games-november.html\n",
      "https://www.basketball-reference.com//leagues/NBA_2020_games-december.html\n",
      "https://www.basketball-reference.com//leagues/NBA_2020_games-january.html\n",
      "https://www.basketball-reference.com//leagues/NBA_2020_games-february.html\n",
      "https://www.basketball-reference.com//leagues/NBA_2020_games-march.html\n",
      "https://www.basketball-reference.com//leagues/NBA_2020_games-july.html\n",
      "https://www.basketball-reference.com//leagues/NBA_2020_games-august.html\n",
      "https://www.basketball-reference.com//leagues/NBA_2020_games-september.html\n",
      "https://www.basketball-reference.com//leagues/NBA_2020_games-october-2020.html\n",
      "2021\n",
      "https://www.basketball-reference.com//leagues/NBA_2021_games-december.html\n",
      "https://www.basketball-reference.com//leagues/NBA_2021_games-january.html\n",
      "https://www.basketball-reference.com//leagues/NBA_2021_games-february.html\n",
      "https://www.basketball-reference.com//leagues/NBA_2021_games-march.html\n",
      "https://www.basketball-reference.com//leagues/NBA_2021_games-april.html\n",
      "https://www.basketball-reference.com//leagues/NBA_2021_games-may.html\n",
      "https://www.basketball-reference.com//leagues/NBA_2021_games-june.html\n",
      "https://www.basketball-reference.com//leagues/NBA_2021_games-july.html\n",
      "2022\n",
      "https://www.basketball-reference.com//leagues/NBA_2022_games-october.html\n",
      "https://www.basketball-reference.com//leagues/NBA_2022_games-november.html\n",
      "https://www.basketball-reference.com//leagues/NBA_2022_games-december.html\n",
      "https://www.basketball-reference.com//leagues/NBA_2022_games-january.html\n",
      "https://www.basketball-reference.com//leagues/NBA_2022_games-february.html\n",
      "https://www.basketball-reference.com//leagues/NBA_2022_games-march.html\n",
      "https://www.basketball-reference.com//leagues/NBA_2022_games-april.html\n"
     ]
    }
   ],
   "source": [
    "#Yearlinks=[]\n",
    "finaldict={}\n",
    "for year in range(1998,2023):\n",
    "    print(year)\n",
    "    finaldict[year]=[]\n",
    "    sleep(3.5)\n",
    "    url = 'https://www.basketball-reference.com/leagues/NBA_'+str(year)+'_games.html'\n",
    "    #Yearlinks.append(year)\n",
    "    response = requests.get(url)\n",
    "    status = response.status_code\n",
    "    if status == 200:\n",
    "      page = response.text\n",
    "      soup = bs(page)\n",
    "    else:\n",
    "      print(f\"Oops! Received status code {status}\")\n",
    "    \n",
    "    monthdiv=soup.find('div', class_='filter')\n",
    "    months=monthdiv.find_all('a')\n",
    "    monthlinks=[]\n",
    "    for month in months:\n",
    "        link='https://www.basketball-reference.com/'+month['href']\n",
    "        monthlinks.append(link)\n",
    "    \n",
    "    gamelinks=[]\n",
    "    for link in monthlinks:\n",
    "        print(link)\n",
    "        url = link\n",
    "        response = requests.get(url)\n",
    "        status = response.status_code\n",
    "        if status == 200:\n",
    "          page = response.text\n",
    "          soup = bs(page)\n",
    "        else:\n",
    "          print(f\"Oops! Received status code {status}\")\n",
    "\n",
    "        table=soup.find('table', id='schedule')\n",
    "        games=table.find_all('a', href=True, text='Box Score')\n",
    "        for game in games:\n",
    "            link='https://www.basketball-reference.com/boxscores/pbp/'+game['href'][11:]\n",
    "            gamelinks.append(link)\n",
    "            gameattemptdistances=shotdist(link)\n",
    "            finaldict[year]=finaldict[year]+gameattemptdistances"
   ]
  },
  {
   "cell_type": "code",
   "execution_count": 62,
   "id": "84bee0d7-cb9c-4a67-9bd6-4cda21fd9206",
   "metadata": {},
   "outputs": [],
   "source": [
    "#save object as .pickle\n",
    "import pickle\n",
    "\n",
    "with open('shotlocation.pickle', 'wb') as handle:\n",
    "    pickle.dump(finaldict, handle, protocol=pickle.HIGHEST_PROTOCOL)"
   ]
  },
  {
   "cell_type": "code",
   "execution_count": 69,
   "id": "a0f1d7d0-9357-4e9a-a6c2-4db9290a86e8",
   "metadata": {},
   "outputs": [],
   "source": [
    "import seaborn as sns"
   ]
  },
  {
   "cell_type": "code",
   "execution_count": 93,
   "id": "25c4fb15-37b4-4bd3-9961-b282a10fe786",
   "metadata": {},
   "outputs": [
    {
     "data": {
      "text/plain": [
       "<AxesSubplot:ylabel='Count'>"
      ]
     },
     "execution_count": 93,
     "metadata": {},
     "output_type": "execute_result"
    },
    {
     "data": {
      "image/png": "[encoded data removed]",
      "text/plain": [
       "<Figure size 432x288 with 1 Axes>"
      ]
     },
     "metadata": {
      "needs_background": "light"
     },
     "output_type": "display_data"
    }
   ],
   "source": [
    "sns.histplot(finaldict[2021])"
   ]
  },
  {
   "cell_type": "code",
   "execution_count": 68,
   "id": "fa620b79-4e1b-4dfb-a84f-bd59dbace55f",
   "metadata": {},
   "outputs": [
    {
     "data": {
      "text/plain": [
       "25"
      ]
     },
     "execution_count": 68,
     "metadata": {},
     "output_type": "execute_result"
    }
   ],
   "source": [
    "len(finaldict)"
   ]
  },
  {
   "cell_type": "code",
   "execution_count": 11,
   "id": "be7df498-2bb0-4de1-87e2-3b079db891aa",
   "metadata": {},
   "outputs": [],
   "source": [
    "url = 'https://www.basketball-reference.com/leagues/NBA_2009_games.html'\n",
    "response = requests.get(url)\n",
    "status = response.status_code\n",
    "if status == 200:\n",
    "  page = response.text\n",
    "  soup = bs(page)\n",
    "else:\n",
    "  print(f\"Oops! Received status code {status}\")"
   ]
  },
  {
   "cell_type": "code",
   "execution_count": 12,
   "id": "51c018fe-139b-4548-9c3e-8672e1abef2b",
   "metadata": {},
   "outputs": [],
   "source": [
    "monthdiv=soup.find('div', class_='filter')"
   ]
  },
  {
   "cell_type": "code",
   "execution_count": 13,
   "id": "a8dc58d5-79e5-4d4f-981c-662a5ba643b3",
   "metadata": {},
   "outputs": [],
   "source": [
    "months=monthdiv.find_all('a')"
   ]
  },
  {
   "cell_type": "code",
   "execution_count": 14,
   "id": "954c5b1c-5b51-4cd3-a92c-7cad54bfccd8",
   "metadata": {},
   "outputs": [
    {
     "data": {
      "text/plain": [
       "['https://www.basketball-reference.com//leagues/NBA_2009_games-october.html',\n",
       " 'https://www.basketball-reference.com//leagues/NBA_2009_games-november.html',\n",
       " 'https://www.basketball-reference.com//leagues/NBA_2009_games-december.html',\n",
       " 'https://www.basketball-reference.com//leagues/NBA_2009_games-january.html',\n",
       " 'https://www.basketball-reference.com//leagues/NBA_2009_games-february.html',\n",
       " 'https://www.basketball-reference.com//leagues/NBA_2009_games-march.html',\n",
       " 'https://www.basketball-reference.com//leagues/NBA_2009_games-april.html',\n",
       " 'https://www.basketball-reference.com//leagues/NBA_2009_games-may.html',\n",
       " 'https://www.basketball-reference.com//leagues/NBA_2009_games-june.html']"
      ]
     },
     "execution_count": 14,
     "metadata": {},
     "output_type": "execute_result"
    }
   ],
   "source": [
    "monthlinks=[]\n",
    "for month in months:\n",
    "    link='https://www.basketball-reference.com/'+month['href']\n",
    "    monthlinks.append(link)\n",
    "\n",
    "monthlinks"
   ]
  },
  {
   "cell_type": "code",
   "execution_count": 15,
   "id": "56fe1a9f-c148-4118-9f92-1d72b6c9ab26",
   "metadata": {},
   "outputs": [],
   "source": [
    "gamelinks=[]\n",
    "for link in monthlinks:\n",
    "    \n",
    "    url = link\n",
    "    response = requests.get(url)\n",
    "    status = response.status_code\n",
    "    if status == 200:\n",
    "      page = response.text\n",
    "      soup = bs(page)\n",
    "    else:\n",
    "      print(f\"Oops! Received status code {status}\")\n",
    "    \n",
    "    table=soup.find('table', id='schedule')\n",
    "    games=table.find_all('a', href=True, text='Box Score')\n",
    "    for game in games:\n",
    "        link='https://www.basketball-reference.com/boxscores/pbp/'+game['href'][11:]\n",
    "        gamelinks.append(link)\n",
    "        "
   ]
  },
  {
   "cell_type": "code",
   "execution_count": 16,
   "id": "d52627f5-272f-4bfd-99f9-a51270871fed",
   "metadata": {},
   "outputs": [
    {
     "data": {
      "text/plain": [
       "['https://www.basketball-reference.com/boxscores/pbp/200906040LAL.html',\n",
       " 'https://www.basketball-reference.com/boxscores/pbp/200906070LAL.html',\n",
       " 'https://www.basketball-reference.com/boxscores/pbp/200906090ORL.html',\n",
       " 'https://www.basketball-reference.com/boxscores/pbp/200906110ORL.html',\n",
       " 'https://www.basketball-reference.com/boxscores/pbp/200906140ORL.html']"
      ]
     },
     "execution_count": 16,
     "metadata": {},
     "output_type": "execute_result"
    }
   ],
   "source": [
    "#looks like the links contain both regular season and playoff\n",
    "gamelinks[-5:]"
   ]
  },
  {
   "cell_type": "markdown",
   "id": "adc64789-de25-4cc7-979e-ecf02a0805c4",
   "metadata": {},
   "source": [
    "### Get stats from every game of the season"
   ]
  },
  {
   "cell_type": "code",
   "execution_count": 20,
   "id": "17e0ec64-7bb9-43b8-884a-69beabfa4a51",
   "metadata": {
    "tags": []
   },
   "outputs": [],
   "source": [
    "#defining function to flatten scraped data\n",
    "\n",
    "\n",
    "#each final row: awaylayupattmp, awaylongtwoattmpt, awaythreeattmp, awaydistance, awaymake, awayassist, awayft, awaydr, awayor\n",
    "#                 homelayupattmp, homelongtwoattmp, homethreeattmp, homedistance, homemake, homeassist, homeft, homedr, homeor\n",
    "def flatten(trs):\n",
    "    rows = []\n",
    "    index=[1,5]\n",
    "    myregex = re.compile('(\\d+) ft')\n",
    "\n",
    "    for tr in trs[3:]:\n",
    "\n",
    "        tds=tr.find_all('td')\n",
    "        row = [td.text for td in tds]\n",
    "        if len(row) != 6:\n",
    "            continue\n",
    "        slicedrow=[row[i] for i in index]\n",
    "\n",
    "        finalrow={'awaylayupattmp':0, 'awaylongtwoattmp':0, 'awaythreeattmp':0, 'awaydistance':0, 'awaymake':0, 'awayassist':0, 'awayft':0, 'awaydr':0, 'awayor':0, \n",
    "              'homelayupattmp':0, 'homelongtwoattmp':0, 'homethreeattmp':0, 'homedistance':0, 'homemake':0, 'homeassist':0, 'homeft':0, 'homedr':0, 'homeor':0}\n",
    "\n",
    "\n",
    "        #away team fg\n",
    "        if '-pt ' in slicedrow[0]:\n",
    "            if ' ft' in slicedrow[0]:\n",
    "                finalrow['awaydistance']=myregex.findall(slicedrow[0])[0]\n",
    "            if ' rim' in slicedrow[0]:\n",
    "                finalrow['awaydistance']=0\n",
    "            if \" makes \" in slicedrow[0]:\n",
    "                finalrow['awaymake']=1\n",
    "                if 'assist ' in slicedrow[0]:\n",
    "                    finalrow['awayassist']=1\n",
    "            if (' 2-pt layup ' in slicedrow[0]) or (' 2-pt dunk ' in slicedrow[0]):\n",
    "                finalrow['awaylayupattmp']=1\n",
    "            if (' 2-pt ' in slicedrow[0]) and (' shot ' in slicedrow[0]):\n",
    "                finalrow['awaylongtwoattmp']=1\n",
    "            if (' 3-pt ' in slicedrow[0]):\n",
    "                finalrow['awaythreeattmp']=1\n",
    "\n",
    "        #away team ft\n",
    "        elif ' free throw ' in slicedrow[0]:\n",
    "            finalrow['awayft']=1\n",
    "            if \" makes \" in slicedrow[0]:\n",
    "                finalrow['awaymake']=1\n",
    "\n",
    "        #away team rebound (not counting team rebound)\n",
    "        elif ('Defensive rebound ' in slicedrow[0]) and (' by Team' not in slicedrow[0]):\n",
    "            finalrow['awaydr']=1\n",
    "        elif (\"Offensive rebound \" in slicedrow[0]) and (' by Team' not in slicedrow[0]):\n",
    "            finalrow['awayor']=1    \n",
    "\n",
    "        #home team fg\n",
    "        elif '-pt ' in slicedrow[1]:\n",
    "            if ' ft' in slicedrow[1]:\n",
    "                finalrow['homedistance']=myregex.findall(slicedrow[1])[0]\n",
    "            if ' rim' in slicedrow[1]:\n",
    "                finalrow['homedistance']=0\n",
    "            if \" makes \" in slicedrow[1]:\n",
    "                finalrow['homemake']=1\n",
    "                if 'assist ' in slicedrow[1]:\n",
    "                    finalrow['homeassist']=1\n",
    "            if (' 2-pt layup ' in slicedrow[1]) or (' 2-pt dunk ' in slicedrow[1]):\n",
    "                finalrow['homelayupattmp']=1\n",
    "            if (' 2-pt ' in slicedrow[1]) and (' shot ' in slicedrow[1]):\n",
    "                finalrow['homelongtwoattmp']=1\n",
    "            if (' 3-pt ' in slicedrow[1]):\n",
    "                finalrow['homethreeattmp']=1                    \n",
    "\n",
    "        #home team ft\n",
    "        elif ' free throw ' in slicedrow[1]:\n",
    "            finalrow['homeft']=1\n",
    "            if \" makes \" in slicedrow[1]:\n",
    "                finalrow['homemake']=1            \n",
    "\n",
    "        #home team rebound (not counting team rebound)\n",
    "        elif ('Defensive rebound ' in slicedrow[1]) and (' by Team' not in slicedrow[1]):\n",
    "            finalrow['homedr']=1\n",
    "        elif (\"Offensive rebound \" in slicedrow[1]) and (' by Team' not in slicedrow[1]):\n",
    "            finalrow['homeor']=1                \n",
    "\n",
    "            \n",
    "        else:\n",
    "            continue\n",
    "        #print(True)\n",
    "        rows.append(finalrow)\n",
    "    return rows"
   ]
  },
  {
   "cell_type": "code",
   "execution_count": 57,
   "id": "23c0a560-84f9-48d8-bd14-f6f58fd153d3",
   "metadata": {},
   "outputs": [],
   "source": [
    "#defining function for turning scraped dict into list of shot distance\n",
    "def shotdist(url):\n",
    "    response = requests.get(url)\n",
    "    status = response.status_code\n",
    "    if status == 200:\n",
    "      page = response.text\n",
    "      soup = bs(page)\n",
    "    else:\n",
    "      print(f\"Oops! Received status code {status}\")\n",
    "\n",
    "    table=soup.find('table', id='pbp')\n",
    "    trs=table.find_all('tr')\n",
    "    rows=flatten(trs)\n",
    "    df = pd.DataFrame(rows) #turn dict into df\n",
    "    df=df.astype(int)\n",
    "    awayattemptdf=df[(df['awaylayupattmp']==1) | (df['awaylongtwoattmp']==1) | (df['awaythreeattmp']==1)] #away team attempt df\n",
    "    homeattemptdf=df[(df['homelayupattmp']==1) | (df['homelongtwoattmp']==1) | (df['homethreeattmp']==1)] #home team attempt df\n",
    "    gameattempts=awayattemptdf.awaydistance.tolist()+homeattemptdf.homedistance.tolist() #list of shot attempt distances of a game\n",
    "\n",
    "    return gameattempts\n",
    "    "
   ]
  },
  {
   "cell_type": "code",
   "execution_count": 24,
   "id": "f08e840b-b5ca-414d-b66c-40da21c082ca",
   "metadata": {},
   "outputs": [],
   "source": [
    "df = pd.DataFrame(rows)"
   ]
  },
  {
   "cell_type": "code",
   "execution_count": null,
   "id": "459ba4f8-3399-4005-97e6-2aa55c86be12",
   "metadata": {},
   "outputs": [],
   "source": []
  },
  {
   "cell_type": "code",
   "execution_count": 2,
   "id": "e2556da4-fca0-413b-aaec-131e4779d4e3",
   "metadata": {},
   "outputs": [],
   "source": [
    "url = 'https://www.basketball-reference.com/boxscores/pbp/202012230DEN.html'\n",
    "response = requests.get(url)\n",
    "status = response.status_code\n",
    "if status == 200:\n",
    "  page = response.text\n",
    "  soup = bs(page)\n",
    "else:\n",
    "  print(f\"Oops! Received status code {status}\")"
   ]
  },
  {
   "cell_type": "code",
   "execution_count": 3,
   "id": "155d540d-08d7-4b13-b648-5708c9476556",
   "metadata": {},
   "outputs": [
    {
     "data": {
      "text/plain": [
       "'\\n<!DOCTYPE html>\\n<html data-version=\"klecko-\" data-root=\"/home/bbr/build\" itemscope itemtype=\"https:'"
      ]
     },
     "execution_count": 3,
     "metadata": {},
     "output_type": "execute_result"
    }
   ],
   "source": [
    "page[:100]"
   ]
  },
  {
   "cell_type": "code",
   "execution_count": 4,
   "id": "4a43bd28-3c6a-48ef-bb74-bdd883ace14d",
   "metadata": {},
   "outputs": [],
   "source": [
    "table=soup.find('table', id='pbp')"
   ]
  },
  {
   "cell_type": "code",
   "execution_count": 5,
   "id": "79785554-2315-49e7-994f-75eca69a9bb3",
   "metadata": {},
   "outputs": [],
   "source": [
    "trs=table.find_all('tr')"
   ]
  },
  {
   "cell_type": "code",
   "execution_count": 123,
   "id": "4f6be586-f56d-4b10-b5cb-9d48024a4cbd",
   "metadata": {},
   "outputs": [],
   "source": [
    "df = pd.DataFrame(rows)"
   ]
  },
  {
   "cell_type": "code",
   "execution_count": 46,
   "id": "dee911c8-fe52-4589-bab3-5686f0d3c4d2",
   "metadata": {},
   "outputs": [
    {
     "data": {
      "text/plain": [
       "awaylayupattmp       int64\n",
       "awaylongtwoattmp     int64\n",
       "awaythreeattmp       int64\n",
       "awaydistance        object\n",
       "awaymake             int64\n",
       "awayassist           int64\n",
       "awayft               int64\n",
       "awaydr               int64\n",
       "awayor               int64\n",
       "homelayupattmp       int64\n",
       "homelongtwoattmp     int64\n",
       "homethreeattmp       int64\n",
       "homedistance        object\n",
       "homemake             int64\n",
       "homeassist           int64\n",
       "homeft               int64\n",
       "homedr               int64\n",
       "homeor               int64\n",
       "dtype: object"
      ]
     },
     "execution_count": 46,
     "metadata": {},
     "output_type": "execute_result"
    }
   ],
   "source": [
    "df.dtypes"
   ]
  },
  {
   "cell_type": "code",
   "execution_count": 47,
   "id": "cd483fc8-4482-4665-aa3f-714fd5f52682",
   "metadata": {
    "tags": []
   },
   "outputs": [],
   "source": [
    "df=df.astype(int)"
   ]
  },
  {
   "cell_type": "code",
   "execution_count": 48,
   "id": "bf19b007-4d88-4615-adcd-aa80d25ee2f6",
   "metadata": {},
   "outputs": [
    {
     "data": {
      "text/plain": [
       "awaylayupattmp      int32\n",
       "awaylongtwoattmp    int32\n",
       "awaythreeattmp      int32\n",
       "awaydistance        int32\n",
       "awaymake            int32\n",
       "awayassist          int32\n",
       "awayft              int32\n",
       "awaydr              int32\n",
       "awayor              int32\n",
       "homelayupattmp      int32\n",
       "homelongtwoattmp    int32\n",
       "homethreeattmp      int32\n",
       "homedistance        int32\n",
       "homemake            int32\n",
       "homeassist          int32\n",
       "homeft              int32\n",
       "homedr              int32\n",
       "homeor              int32\n",
       "dtype: object"
      ]
     },
     "execution_count": 48,
     "metadata": {},
     "output_type": "execute_result"
    }
   ],
   "source": [
    "df.dtypes"
   ]
  },
  {
   "cell_type": "code",
   "execution_count": 31,
   "id": "fe36a9d2-67e8-4c5c-ad62-511bc0af5b88",
   "metadata": {},
   "outputs": [],
   "source": [
    "#df of total attempts (away and home)\n",
    "awayattemptdf=df[(df['awaylayupattmp']==1) | (df['awaylongtwoattmp']==1) | (df['awaythreeattmp']==1)]\n",
    "homeattemptdf=df[(df['homelayupattmp']==1) | (df['homelongtwoattmp']==1) | (df['homethreeattmp']==1)]"
   ]
  },
  {
   "cell_type": "code",
   "execution_count": 36,
   "id": "04546747-dc0d-45e1-b9b9-096a915f59be",
   "metadata": {
    "collapsed": true,
    "jupyter": {
     "outputs_hidden": true
    },
    "tags": []
   },
   "outputs": [
    {
     "data": {
      "text/plain": [
       "[0,\n",
       " 0,\n",
       " '16',\n",
       " '19',\n",
       " 0,\n",
       " '8',\n",
       " '9',\n",
       " '11',\n",
       " '9',\n",
       " '15',\n",
       " '13',\n",
       " 0,\n",
       " '9',\n",
       " 0,\n",
       " '20',\n",
       " '25',\n",
       " 0,\n",
       " '25',\n",
       " 0,\n",
       " 0,\n",
       " '16',\n",
       " '16',\n",
       " '25',\n",
       " '6',\n",
       " '26',\n",
       " '9',\n",
       " '14',\n",
       " '21',\n",
       " 0,\n",
       " 0,\n",
       " '25',\n",
       " '12',\n",
       " 0,\n",
       " '25',\n",
       " '26',\n",
       " '14',\n",
       " '26',\n",
       " 0,\n",
       " 0,\n",
       " 0,\n",
       " '15',\n",
       " '22',\n",
       " '20',\n",
       " '26',\n",
       " '20',\n",
       " '17',\n",
       " '21',\n",
       " '23',\n",
       " '24',\n",
       " '6',\n",
       " 0,\n",
       " '18',\n",
       " '6',\n",
       " '15',\n",
       " 0,\n",
       " 0,\n",
       " '17',\n",
       " '14',\n",
       " '11',\n",
       " '20',\n",
       " '16',\n",
       " 0,\n",
       " '24',\n",
       " '14',\n",
       " '25',\n",
       " '14',\n",
       " 0,\n",
       " '17',\n",
       " 0,\n",
       " 0,\n",
       " '27',\n",
       " 0,\n",
       " 0,\n",
       " '26',\n",
       " '9',\n",
       " '14',\n",
       " '6',\n",
       " '24',\n",
       " '20',\n",
       " '20',\n",
       " '24',\n",
       " '26',\n",
       " 0,\n",
       " '5',\n",
       " 0,\n",
       " 0,\n",
       " 0,\n",
       " 0,\n",
       " 0,\n",
       " '23',\n",
       " 0,\n",
       " '25',\n",
       " '26',\n",
       " '8',\n",
       " '15',\n",
       " '7',\n",
       " 0,\n",
       " 0,\n",
       " '7',\n",
       " '6',\n",
       " 0,\n",
       " 0,\n",
       " '25',\n",
       " '8',\n",
       " '17',\n",
       " 0,\n",
       " 0,\n",
       " '14',\n",
       " '18',\n",
       " 0,\n",
       " 0,\n",
       " 0,\n",
       " '12',\n",
       " '20',\n",
       " '25',\n",
       " 0,\n",
       " '24',\n",
       " '25',\n",
       " 0,\n",
       " 0,\n",
       " '14',\n",
       " '15',\n",
       " 0,\n",
       " '12',\n",
       " '24',\n",
       " 0,\n",
       " '24',\n",
       " '18',\n",
       " '20',\n",
       " '24',\n",
       " 0,\n",
       " '7',\n",
       " '24',\n",
       " '7',\n",
       " '27',\n",
       " '24',\n",
       " '16',\n",
       " 0,\n",
       " '23',\n",
       " 0,\n",
       " '42',\n",
       " '23',\n",
       " '8',\n",
       " '24',\n",
       " '10',\n",
       " '24',\n",
       " '26',\n",
       " '20',\n",
       " 0,\n",
       " '24',\n",
       " '25',\n",
       " '26',\n",
       " 0,\n",
       " '23',\n",
       " '25',\n",
       " '9',\n",
       " '27',\n",
       " 0,\n",
       " '26']"
      ]
     },
     "execution_count": 36,
     "metadata": {},
     "output_type": "execute_result"
    }
   ],
   "source": [
    "awayattemptdf.awaydistance.tolist()+homeattemptdf.homedistance.tolist()"
   ]
  },
  {
   "cell_type": "code",
   "execution_count": null,
   "id": "0ebb6bdb-25c3-47f3-9141-65530f47f639",
   "metadata": {},
   "outputs": [],
   "source": [
    "awayattemptdf.awaydistance"
   ]
  },
  {
   "cell_type": "code",
   "execution_count": 156,
   "id": "1f175805-c8bd-4bb6-add9-8c2cde1e430e",
   "metadata": {},
   "outputs": [],
   "source": [
    "href=\"/boxscores/200810280BOS.html\""
   ]
  },
  {
   "cell_type": "code",
   "execution_count": 157,
   "id": "25cc8a50-0ab3-4461-b34d-b824b82eb3b4",
   "metadata": {},
   "outputs": [
    {
     "data": {
      "text/plain": [
       "'200810280BOS.html'"
      ]
     },
     "execution_count": 157,
     "metadata": {},
     "output_type": "execute_result"
    }
   ],
   "source": [
    "href[11:]"
   ]
  },
  {
   "cell_type": "code",
   "execution_count": 41,
   "id": "e521aa89-3c99-4e27-b18f-cacd2e9e8ada",
   "metadata": {},
   "outputs": [],
   "source": [
    "a=[1,2,3]\n",
    "b=[2,3,4]"
   ]
  },
  {
   "cell_type": "code",
   "execution_count": 42,
   "id": "940fa678-eac0-471c-ac2d-115bf36e78f8",
   "metadata": {},
   "outputs": [],
   "source": [
    "a=a+b"
   ]
  },
  {
   "cell_type": "code",
   "execution_count": 43,
   "id": "212fd489-e944-4223-b4d3-7aea402a07de",
   "metadata": {},
   "outputs": [
    {
     "data": {
      "text/plain": [
       "[1, 2, 3, 2, 3, 4]"
      ]
     },
     "execution_count": 43,
     "metadata": {},
     "output_type": "execute_result"
    }
   ],
   "source": [
    "a"
   ]
  },
  {
   "cell_type": "code",
   "execution_count": null,
   "id": "b0d26593-3e4b-4c55-8dfa-f27a3ed31368",
   "metadata": {},
   "outputs": [],
   "source": []
  }
 ],
 "metadata": {
  "kernelspec": {
   "display_name": "Python 3",
   "language": "python",
   "name": "python3"
  },
  "language_info": {
   "codemirror_mode": {
    "name": "ipython",
    "version": 3
   },
   "file_extension": ".py",
   "mimetype": "text/x-python",
   "name": "python",
   "nbconvert_exporter": "python",
   "pygments_lexer": "ipython3",
   "version": "3.8.8"
  }
 },
 "nbformat": 4,
 "nbformat_minor": 5
}
